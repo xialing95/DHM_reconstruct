{
 "cells": [
  {
   "cell_type": "code",
   "execution_count": 1,
   "metadata": {},
   "outputs": [],
   "source": [
    "from PIL import Image\n",
    "import glob, os"
   ]
  },
  {
   "cell_type": "code",
   "execution_count": 2,
   "metadata": {},
   "outputs": [],
   "source": [
    "im = Image.open(\"image-small5.jpg\")\n",
    "im.show()"
   ]
  },
  {
   "cell_type": "code",
   "execution_count": 3,
   "metadata": {},
   "outputs": [],
   "source": [
    "# Setting the points for cropped image\n",
    "left = 0 \n",
    "top =0\n",
    "right = 256*6\n",
    "bottom = 256*6\n",
    "# Cropped image of above dimension\n",
    "# (It will not change orginal image)\n",
    "im1 = im.crop((left, top, right, bottom))\n",
    "\n",
    "# pre-processing\n",
    "\n",
    "\n",
    "# Shows the image in image viewer\n",
    "im1.show()"
   ]
  },
  {
   "cell_type": "code",
   "execution_count": null,
   "metadata": {},
   "outputs": [],
   "source": []
  },
  {
   "cell_type": "code",
   "execution_count": 99,
   "metadata": {},
   "outputs": [],
   "source": [
    "def tileImage(im, height, width):\n",
    "    imgwidth, imgheight = im.size\n",
    "    print(imgwidth, imgheight)\n",
    "    tileNum = int(imgwidth/width)\n",
    "    print(tileNum)\n",
    "    for i in range(tileNum):\n",
    "        for j in range(tileNum):\n",
    "            tile = im.crop((i*height, j*width, (i+1)*height, (j+1)*width))\n",
    "            tile.save(str(i) +str(j) + \"test.png\")"
   ]
  },
  {
   "cell_type": "code",
   "execution_count": 100,
   "metadata": {},
   "outputs": [
    {
     "name": "stdout",
     "output_type": "stream",
     "text": [
      "1536 1536\n",
      "6\n"
     ]
    }
   ],
   "source": [
    "tileImage(im1, 256, 256)"
   ]
  },
  {
   "cell_type": "code",
   "execution_count": null,
   "metadata": {},
   "outputs": [],
   "source": []
  }
 ],
 "metadata": {
  "kernelspec": {
   "display_name": "Python 3",
   "language": "python",
   "name": "python3"
  },
  "language_info": {
   "codemirror_mode": {
    "name": "ipython",
    "version": 3
   },
   "file_extension": ".py",
   "mimetype": "text/x-python",
   "name": "python",
   "nbconvert_exporter": "python",
   "pygments_lexer": "ipython3",
   "version": "3.8.5"
  }
 },
 "nbformat": 4,
 "nbformat_minor": 4
}
