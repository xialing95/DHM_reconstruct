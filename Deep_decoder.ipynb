{
 "cells": [
  {
   "cell_type": "code",
   "execution_count": 46,
   "metadata": {},
   "outputs": [],
   "source": [
    "import os\n",
    "import tensorflow as tf\n",
    "import tensorflow.keras as keras\n",
    "from tensorflow.keras import Model, layers, datasets\n",
    "import matplotlib.pyplot as plt"
   ]
  },
  {
   "cell_type": "code",
   "execution_count": 36,
   "metadata": {},
   "outputs": [],
   "source": [
    "(train_images, train_labels), (test_images, test_labels) = datasets.cifar10.load_data()\n",
    "train_images, test_images = train_images / 255.0, test_images / 255.0\n"
   ]
  },
  {
   "cell_type": "code",
   "execution_count": 37,
   "metadata": {},
   "outputs": [
    {
     "name": "stdout",
     "output_type": "stream",
     "text": [
      "Model: \"decoder_15\"\n",
      "_________________________________________________________________\n",
      "Layer (type)                 Output Shape              Param #   \n",
      "=================================================================\n",
      "conv2d_45 (Conv2D)           multiple                  896       \n",
      "_________________________________________________________________\n",
      "max_pooling2d_30 (MaxPooling multiple                  0         \n",
      "_________________________________________________________________\n",
      "conv2d_46 (Conv2D)           multiple                  18496     \n",
      "_________________________________________________________________\n",
      "max_pooling2d_31 (MaxPooling multiple                  0         \n",
      "_________________________________________________________________\n",
      "conv2d_47 (Conv2D)           multiple                  36928     \n",
      "_________________________________________________________________\n",
      "flatten_11 (Flatten)         multiple                  0         \n",
      "_________________________________________________________________\n",
      "dense_22 (Dense)             multiple                  65600     \n",
      "_________________________________________________________________\n",
      "dense_23 (Dense)             multiple                  650       \n",
      "=================================================================\n",
      "Total params: 122,570\n",
      "Trainable params: 122,570\n",
      "Non-trainable params: 0\n",
      "_________________________________________________________________\n"
     ]
    }
   ],
   "source": [
    "class decoder(Model):\n",
    "    def __init__(self):\n",
    "        super().__init__()\n",
    "        self.conv1 = layers.Conv2D(32, (3, 3), activation='relu', input_shape=(32, 32, 3))\n",
    "        self.maxpool1 = layers.MaxPooling2D((2, 2))\n",
    "        self.conv2 = layers.Conv2D(64, (3, 3), activation='relu')\n",
    "        self.maxpool2 = layers.MaxPooling2D((2, 2))\n",
    "        self.conv3 = layers.Conv2D(64, (3, 3), activation='relu')\n",
    "        self.flatten = layers.Flatten()\n",
    "        self.dense1 = layers.Dense(64, activation='relu')\n",
    "        self.dense2 = layers.Dense(10)\n",
    "\n",
    "    def call(self, input):\n",
    "        x = self.conv1(input)\n",
    "        x = self.maxpool1(x)\n",
    "        x = self.conv2(x)\n",
    "        x = self.maxpool2(x)\n",
    "        x = self.conv3(x)\n",
    "        x = self.flatten(x)\n",
    "        x = self.dense1(x)\n",
    "        x = self.dense2(x)\n",
    "        return x\n",
    "\n",
    "class deep_decoder(Model, input_shape):\n",
    "    def __init__(self):\n",
    "        super().__init__()\n",
    "        self.make_model(input_shape)\n",
    "\n",
    "    def make_model(self, input_shape):\n",
    "        self.conv1 = layers.Conv2D(32, (3, 3), activation='relu', input_shape=input_shape)\n",
    "            \n",
    "\n",
    "model = decoder()\n",
    "model.build(input_shape=(None, 32, 32, 3))\n",
    "model.summary()\n",
    "model.compile(optimizer='adam',\n",
    "              loss=tf.keras.losses.SparseCategoricalCrossentropy(from_logits=True),\n",
    "              metrics=['accuracy'])\n"
   ]
  },
  {
   "cell_type": "code",
   "execution_count": 48,
   "metadata": {},
   "outputs": [
    {
     "name": "stdout",
     "output_type": "stream",
     "text": [
      "Epoch 1/10\n",
      "1563/1563 [==============================] - 37s 24ms/step - loss: 0.5795 - accuracy: 0.7963 - val_loss: 0.8875 - val_accuracy: 0.7052\n",
      "\n",
      "Epoch 00001: saving model to ./checkpoints/cp.ckpt\n",
      "Epoch 2/10\n",
      "1563/1563 [==============================] - 32s 21ms/step - loss: 0.5458 - accuracy: 0.8072 - val_loss: 0.8735 - val_accuracy: 0.7139\n",
      "\n",
      "Epoch 00002: saving model to ./checkpoints/cp.ckpt\n",
      "Epoch 3/10\n",
      "1563/1563 [==============================] - 34s 22ms/step - loss: 0.5146 - accuracy: 0.8172 - val_loss: 0.8891 - val_accuracy: 0.7111\n",
      "\n",
      "Epoch 00003: saving model to ./checkpoints/cp.ckpt\n",
      "Epoch 4/10\n",
      "1563/1563 [==============================] - 31s 20ms/step - loss: 0.4817 - accuracy: 0.8284 - val_loss: 0.9372 - val_accuracy: 0.7129\n",
      "\n",
      "Epoch 00004: saving model to ./checkpoints/cp.ckpt\n",
      "Epoch 5/10\n",
      "1563/1563 [==============================] - 34s 22ms/step - loss: 0.4552 - accuracy: 0.8407 - val_loss: 0.9073 - val_accuracy: 0.7212\n",
      "\n",
      "Epoch 00005: saving model to ./checkpoints/cp.ckpt\n",
      "Epoch 6/10\n",
      "1563/1563 [==============================] - 36s 23ms/step - loss: 0.4226 - accuracy: 0.8491 - val_loss: 1.0278 - val_accuracy: 0.7112\n",
      "\n",
      "Epoch 00006: saving model to ./checkpoints/cp.ckpt\n",
      "Epoch 7/10\n",
      "1563/1563 [==============================] - 33s 21ms/step - loss: 0.3943 - accuracy: 0.8605 - val_loss: 0.9892 - val_accuracy: 0.7172\n",
      "\n",
      "Epoch 00007: saving model to ./checkpoints/cp.ckpt\n",
      "Epoch 8/10\n",
      "1563/1563 [==============================] - 35s 23ms/step - loss: 0.3669 - accuracy: 0.8698 - val_loss: 0.9834 - val_accuracy: 0.7174\n",
      "\n",
      "Epoch 00008: saving model to ./checkpoints/cp.ckpt\n",
      "Epoch 9/10\n",
      "1563/1563 [==============================] - 31s 20ms/step - loss: 0.3391 - accuracy: 0.8776 - val_loss: 1.1547 - val_accuracy: 0.7051\n",
      "\n",
      "Epoch 00009: saving model to ./checkpoints/cp.ckpt\n",
      "Epoch 10/10\n",
      "1563/1563 [==============================] - 34s 22ms/step - loss: 0.3214 - accuracy: 0.8855 - val_loss: 1.1394 - val_accuracy: 0.7190\n",
      "\n",
      "Epoch 00010: saving model to ./checkpoints/cp.ckpt\n"
     ]
    }
   ],
   "source": [
    "checkpoint_path = \"./checkpoints/cp.ckpt\"\n",
    "checkpoint_dir = os.path.dirname(checkpoint_path)\n",
    "\n",
    "cp_callback = keras.callbacks.ModelCheckpoint(filepath=checkpoint_path, save_weights_only=True, verbose=1)\n",
    "\n",
    "history = model.fit(train_images, train_labels, epochs=10, validation_data=(test_images, test_labels), callbacks = [cp_callback])"
   ]
  }
 ],
 "metadata": {
  "kernelspec": {
   "display_name": "Python 3.8.5 ('holo_env')",
   "language": "python",
   "name": "python3"
  },
  "language_info": {
   "codemirror_mode": {
    "name": "ipython",
    "version": 3
   },
   "file_extension": ".py",
   "mimetype": "text/x-python",
   "name": "python",
   "nbconvert_exporter": "python",
   "pygments_lexer": "ipython3",
   "version": "3.8.5"
  },
  "orig_nbformat": 4,
  "vscode": {
   "interpreter": {
    "hash": "d034aa653411dcd0bdb4d5cddbb1390db6c19ed1988809252f3330ff4fdd31bd"
   }
  }
 },
 "nbformat": 4,
 "nbformat_minor": 2
}
